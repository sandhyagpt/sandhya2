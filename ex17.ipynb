{
 "cells": [
  {
   "cell_type": "code",
   "execution_count": 1,
   "id": "08caf0d1",
   "metadata": {},
   "outputs": [
    {
     "data": {
      "text/plain": [
       "array([[   1, 6012],\n",
       "       [   2, 7079],\n",
       "       [   3, 6886],\n",
       "       [   4, 7230],\n",
       "       [   5, 4598],\n",
       "       [   6, 5564],\n",
       "       [   7, 6971],\n",
       "       [   8, 7763],\n",
       "       [   9, 8032],\n",
       "       [  10, 9569]])"
      ]
     },
     "execution_count": 1,
     "metadata": {},
     "output_type": "execute_result"
    }
   ],
   "source": [
    "import numpy as np\n",
    "Day_number=np.arange(1,11)\n",
    "steps_walked=[6012,7079,6886,7230,4598,5564,6971,7763,8032,9569]\n",
    "arr=np.array([Day_number,steps_walked])\n",
    "arr=arr.T\n",
    "arr"
   ]
  },
  {
   "cell_type": "code",
   "execution_count": 2,
   "id": "1c51eb1b",
   "metadata": {},
   "outputs": [
    {
     "name": "stdout",
     "output_type": "stream",
     "text": [
      "   Day_number  steps_walked\n",
      "0           1          6012\n",
      "1           2          7079\n",
      "2           3          6886\n",
      "3           4          7230\n",
      "4           5          4598\n",
      "5           6          5564\n",
      "6           7          6971\n",
      "7           8          7763\n",
      "8           9          8032\n",
      "9          10          9569\n"
     ]
    }
   ],
   "source": [
    "import pandas as pd\n",
    "arr={\n",
    "    'Day_number':[1,2,3,4,5,6,7,8,9,10],\n",
    "    'steps_walked':[6012,7079,6886,7230,4598,5564,6971,7763,8032,9569]\n",
    "    }\n",
    "df=pd.DataFrame(arr)\n",
    "print(df)"
   ]
  },
  {
   "cell_type": "code",
   "execution_count": 18,
   "id": "e38dd12a",
   "metadata": {},
   "outputs": [
    {
     "ename": "TypeError",
     "evalue": "unhashable type: 'slice'",
     "output_type": "error",
     "traceback": [
      "\u001b[1;31m---------------------------------------------------------------------------\u001b[0m",
      "\u001b[1;31mTypeError\u001b[0m                                 Traceback (most recent call last)",
      "Cell \u001b[1;32mIn[18], line 1\u001b[0m\n\u001b[1;32m----> 1\u001b[0m new_arr\u001b[38;5;241m=\u001b[39m arr[:\u001b[38;5;241m1\u001b[39m]\u001b[38;5;241m+\u001b[39m\u001b[38;5;241m2000\u001b[39m\n\u001b[0;32m      2\u001b[0m arr[:,\u001b[38;5;241m1\u001b[39m]\u001b[38;5;241m=\u001b[39mnew_arr\n\u001b[0;32m      3\u001b[0m arr\n",
      "\u001b[1;31mTypeError\u001b[0m: unhashable type: 'slice'"
     ]
    }
   ],
   "source": [
    "new_arr= arr[:,1]+2000\n",
    "arr[:,1]=new_arr\n",
    "arr"
   ]
  },
  {
   "cell_type": "code",
   "execution_count": 12,
   "id": "01c80843",
   "metadata": {},
   "outputs": [
    {
     "name": "stdout",
     "output_type": "stream",
     "text": [
      "0     8012\n",
      "1     9079\n",
      "2     8886\n",
      "3     9230\n",
      "4     6598\n",
      "5     7564\n",
      "6     8971\n",
      "7     9763\n",
      "8    10032\n",
      "9    11569\n",
      "Name: steps_walked, dtype: int64\n"
     ]
    }
   ],
   "source": [
    "arr['steps_walked']=df['steps_walked']+2000\n",
    "print(arr['steps_walked'])"
   ]
  },
  {
   "cell_type": "code",
   "execution_count": 10,
   "id": "7fc46622",
   "metadata": {},
   "outputs": [
    {
     "ename": "TypeError",
     "evalue": "unhashable type: 'slice'",
     "output_type": "error",
     "traceback": [
      "\u001b[1;31m---------------------------------------------------------------------------\u001b[0m",
      "\u001b[1;31mTypeError\u001b[0m                                 Traceback (most recent call last)",
      "Cell \u001b[1;32mIn[10], line 1\u001b[0m\n\u001b[1;32m----> 1\u001b[0m matched\u001b[38;5;241m=\u001b[39m arr [:,\u001b[38;5;241m1\u001b[39m] \u001b[38;5;241m>\u001b[39m \u001b[38;5;241m9000\u001b[39m\n\u001b[0;32m      2\u001b[0m matched\n\u001b[0;32m      3\u001b[0m new_arr\u001b[38;5;241m=\u001b[39marr[matched]\n",
      "\u001b[1;31mTypeError\u001b[0m: unhashable type: 'slice'"
     ]
    }
   ],
   "source": [
    "matched= arr [:,1] > 9000\n",
    "matched\n",
    "new_arr=arr[matched]\n",
    "new_arr"
   ]
  },
  {
   "cell_type": "code",
   "execution_count": 6,
   "id": "415ea270",
   "metadata": {},
   "outputs": [
    {
     "name": "stdout",
     "output_type": "stream",
     "text": [
      "   Day_number  steps_walked\n",
      "9          10          9569\n"
     ]
    }
   ],
   "source": [
    "matched=df.loc[df['steps_walked']>9000]\n",
    "print(matched)"
   ]
  },
  {
   "cell_type": "code",
   "execution_count": null,
   "id": "57be3f29",
   "metadata": {},
   "outputs": [],
   "source": []
  }
 ],
 "metadata": {
  "kernelspec": {
   "display_name": "Python 3 (ipykernel)",
   "language": "python",
   "name": "python3"
  },
  "language_info": {
   "codemirror_mode": {
    "name": "ipython",
    "version": 3
   },
   "file_extension": ".py",
   "mimetype": "text/x-python",
   "name": "python",
   "nbconvert_exporter": "python",
   "pygments_lexer": "ipython3",
   "version": "3.11.4"
  }
 },
 "nbformat": 4,
 "nbformat_minor": 5
}
