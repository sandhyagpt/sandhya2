{
 "cells": [
  {
   "cell_type": "code",
   "execution_count": 2,
   "id": "3e0d469f",
   "metadata": {},
   "outputs": [
    {
     "name": "stdout",
     "output_type": "stream",
     "text": [
      "      Name  Age        cities\n",
      "0     Alie   25       newyork\n",
      "1      bob   32  sanfrancisco\n",
      "2  charlie   28     losangoes\n",
      "3    David   45       chicago\n",
      "4      Eve   29         miami\n"
     ]
    }
   ],
   "source": [
    "import pandas as pd\n",
    "names=pd.Series(['Alie','bob','charlie','David','Eve'])\n",
    "ages=pd.Series([25,32,28,45,29])\n",
    "cities=pd.Series(['newyork','sanfrancisco','losangoes','chicago','miami'])\n",
    "data={\n",
    "    'Name':names,\n",
    "    'Age':ages,\n",
    "    'cities':cities\n",
    "}\n",
    "df=pd.DataFrame(data)\n",
    "print(df)\n"
   ]
  },
  {
   "cell_type": "code",
   "execution_count": 5,
   "id": "1130fd62",
   "metadata": {},
   "outputs": [
    {
     "name": "stdout",
     "output_type": "stream",
     "text": [
      "      Name  Age          City\n",
      "0     Alie   25       newyork\n",
      "1      bob   32  sanfrancisco\n",
      "2  charlie   28     losangoes\n",
      "3    David   45       chicago\n",
      "4      Eve   29         miami\n"
     ]
    }
   ],
   "source": [
    "data={\n",
    "    'Name':['Alie','bob','charlie','David','Eve'],\n",
    "    'Age':[25,32,28,45,29],\n",
    "    'City':['newyork','sanfrancisco','losangoes','chicago','miami']\n",
    "    }\n",
    "df=pd.DataFrame(data)\n",
    "print(df)\n"
   ]
  },
  {
   "cell_type": "code",
   "execution_count": null,
   "id": "4282653d",
   "metadata": {},
   "outputs": [],
   "source": []
  }
 ],
 "metadata": {
  "kernelspec": {
   "display_name": "Python 3 (ipykernel)",
   "language": "python",
   "name": "python3"
  },
  "language_info": {
   "codemirror_mode": {
    "name": "ipython",
    "version": 3
   },
   "file_extension": ".py",
   "mimetype": "text/x-python",
   "name": "python",
   "nbconvert_exporter": "python",
   "pygments_lexer": "ipython3",
   "version": "3.11.3"
  }
 },
 "nbformat": 4,
 "nbformat_minor": 5
}
