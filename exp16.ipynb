{
 "cells": [
  {
   "cell_type": "code",
   "execution_count": 4,
   "id": "bb766b23",
   "metadata": {},
   "outputs": [
    {
     "data": {
      "text/plain": [
       "array([[   1, 4385],\n",
       "       [   2, 9552],\n",
       "       [   3, 7332],\n",
       "       [   4, 4504],\n",
       "       [   5, 5335],\n",
       "       [   6, 7552],\n",
       "       [   7, 8332],\n",
       "       [   8, 6504],\n",
       "       [   9, 8965],\n",
       "       [  10, 7689]])"
      ]
     },
     "execution_count": 4,
     "metadata": {},
     "output_type": "execute_result"
    }
   ],
   "source": [
    "import numpy as np\n",
    "Day_number=np.arange(1,11)\n",
    "steps_walked=[4385,9552,7332,4504,5335,7552,8332,6504,8965,7689]\n",
    "arr=np.array([Day_number,steps_walked])\n",
    "arr=arr.T\n",
    "arr"
   ]
  },
  {
   "cell_type": "code",
   "execution_count": 5,
   "id": "84db769c",
   "metadata": {},
   "outputs": [
    {
     "name": "stdout",
     "output_type": "stream",
     "text": [
      "   Day_number  steps_walked\n",
      "0           1          4385\n",
      "1           2          9552\n",
      "2           3          7332\n",
      "3           4          4504\n",
      "4           5          5335\n",
      "5           6          7552\n",
      "6           7          8332\n",
      "7           8          6504\n",
      "8           9          8965\n",
      "9          10          7689\n"
     ]
    }
   ],
   "source": [
    "import pandas as pd\n",
    "arr={\n",
    "    'Day_number':[1,2,3,4,5,6,7,8,9,10],\n",
    "    'steps_walked':[4385,9552,7332,4504,5335,7552,8332,6504,8965,7689]\n",
    "    }\n",
    "df=pd.DataFrame(arr)\n",
    "print(df)"
   ]
  },
  {
   "cell_type": "code",
   "execution_count": 27,
   "id": "47f7c6ff",
   "metadata": {},
   "outputs": [
    {
     "ename": "TypeError",
     "evalue": "unhashable type: 'slice'",
     "output_type": "error",
     "traceback": [
      "\u001b[1;31m---------------------------------------------------------------------------\u001b[0m",
      "\u001b[1;31mTypeError\u001b[0m                                 Traceback (most recent call last)",
      "Cell \u001b[1;32mIn[27], line 1\u001b[0m\n\u001b[1;32m----> 1\u001b[0m new_arr\u001b[38;5;241m=\u001b[39m arr[:, \u001b[38;5;241m1\u001b[39m]\u001b[38;5;241m+\u001b[39m\u001b[38;5;241m2000\u001b[39m\n\u001b[0;32m      2\u001b[0m arr[:,\u001b[38;5;241m1\u001b[39m]\u001b[38;5;241m=\u001b[39mnew_arr\n\u001b[0;32m      3\u001b[0m arr\n",
      "\u001b[1;31mTypeError\u001b[0m: unhashable type: 'slice'"
     ]
    }
   ],
   "source": [
    "new_arr= arr[:,1]+2000\n",
    "arr[:,1]=new_arr\n",
    "arr"
   ]
  },
  {
   "cell_type": "code",
   "execution_count": 28,
   "id": "ff36e38e",
   "metadata": {},
   "outputs": [
    {
     "name": "stdout",
     "output_type": "stream",
     "text": [
      "0     6385\n",
      "1    11552\n",
      "2     9332\n",
      "3     6504\n",
      "4     7335\n",
      "5     9552\n",
      "6    10332\n",
      "7     8504\n",
      "8    10965\n",
      "9     9689\n",
      "Name: steps_walked, dtype: int64\n"
     ]
    }
   ],
   "source": [
    "arr['steps_walked']=df['steps_walked']+2000\n",
    "print(arr['steps_walked'])"
   ]
  },
  {
   "cell_type": "code",
   "execution_count": 26,
   "id": "62243063",
   "metadata": {},
   "outputs": [
    {
     "ename": "TypeError",
     "evalue": "unhashable type: 'slice'",
     "output_type": "error",
     "traceback": [
      "\u001b[1;31m---------------------------------------------------------------------------\u001b[0m",
      "\u001b[1;31mTypeError\u001b[0m                                 Traceback (most recent call last)",
      "Cell \u001b[1;32mIn[26], line 1\u001b[0m\n\u001b[1;32m----> 1\u001b[0m matched\u001b[38;5;241m=\u001b[39marr[:, \u001b[38;5;241m1\u001b[39m] \u001b[38;5;241m>\u001b[39m \u001b[38;5;241m9000\u001b[39m\n\u001b[0;32m      2\u001b[0m matched\n\u001b[0;32m      3\u001b[0m new_arr\u001b[38;5;241m=\u001b[39marr[matched]\n",
      "\u001b[1;31mTypeError\u001b[0m: unhashable type: 'slice'"
     ]
    }
   ],
   "source": [
    "matched=arr[:, 1] > 9000\n",
    "matched\n",
    "new_arr=arr[matched]\n",
    "new_arr"
   ]
  },
  {
   "cell_type": "code",
   "execution_count": 29,
   "id": "37399510",
   "metadata": {},
   "outputs": [
    {
     "name": "stdout",
     "output_type": "stream",
     "text": [
      "   Day_number  steps_walked\n",
      "1           2          9552\n"
     ]
    }
   ],
   "source": [
    "matched=df.loc[df['steps_walked']>9000]\n",
    "print(matched)"
   ]
  },
  {
   "cell_type": "code",
   "execution_count": null,
   "id": "330f611f",
   "metadata": {},
   "outputs": [],
   "source": []
  }
 ],
 "metadata": {
  "kernelspec": {
   "display_name": "Python 3 (ipykernel)",
   "language": "python",
   "name": "python3"
  },
  "language_info": {
   "codemirror_mode": {
    "name": "ipython",
    "version": 3
   },
   "file_extension": ".py",
   "mimetype": "text/x-python",
   "name": "python",
   "nbconvert_exporter": "python",
   "pygments_lexer": "ipython3",
   "version": "3.11.3"
  }
 },
 "nbformat": 4,
 "nbformat_minor": 5
}
