{
 "cells": [
  {
   "cell_type": "code",
   "execution_count": 3,
   "id": "2c9924ef",
   "metadata": {},
   "outputs": [
    {
     "data": {
      "text/plain": [
       "array([['chevrolet', 'buick', 'ply', 'ame', 'fors'],\n",
       "       ['130', '165', '150', '150', '140']], dtype='<U11')"
      ]
     },
     "execution_count": 3,
     "metadata": {},
     "output_type": "execute_result"
    }
   ],
   "source": [
    "import numpy as np\n",
    "car_names=['chevrolet','buick','ply','ame','fors']\n",
    "horsepower=[130,165,150,150,140]\n",
    "car_hp_arr=np.array([car_names,horsepower])\n",
    "car_hp_arr"
   ]
  },
  {
   "cell_type": "code",
   "execution_count": 4,
   "id": "a2fe46ed",
   "metadata": {},
   "outputs": [
    {
     "data": {
      "text/plain": [
       "array(['chevrolet', 'buick', 'ply', 'ame', 'fors'], dtype='<U11')"
      ]
     },
     "execution_count": 4,
     "metadata": {},
     "output_type": "execute_result"
    }
   ],
   "source": [
    " car_hp_arr[0]"
   ]
  },
  {
   "cell_type": "code",
   "execution_count": 5,
   "id": "911002c0",
   "metadata": {},
   "outputs": [
    {
     "data": {
      "text/plain": [
       "array(['130', '165', '150', '150', '140'], dtype='<U11')"
      ]
     },
     "execution_count": 5,
     "metadata": {},
     "output_type": "execute_result"
    }
   ],
   "source": [
    "car_hp_arr[1]\n"
   ]
  },
  {
   "cell_type": "code",
   "execution_count": 6,
   "id": "981b85fe",
   "metadata": {},
   "outputs": [
    {
     "data": {
      "text/plain": [
       "'buick'"
      ]
     },
     "execution_count": 6,
     "metadata": {},
     "output_type": "execute_result"
    }
   ],
   "source": [
    "car_hp_arr[0,1]"
   ]
  },
  {
   "cell_type": "code",
   "execution_count": 7,
   "id": "d83002fd",
   "metadata": {},
   "outputs": [
    {
     "data": {
      "text/plain": [
       "'fors'"
      ]
     },
     "execution_count": 7,
     "metadata": {},
     "output_type": "execute_result"
    }
   ],
   "source": [
    "car_hp_arr[0,-1]\n"
   ]
  },
  {
   "cell_type": "code",
   "execution_count": 8,
   "id": "54c651bd",
   "metadata": {},
   "outputs": [
    {
     "data": {
      "text/plain": [
       "array(['buick', 'ply', 'ame'], dtype='<U9')"
      ]
     },
     "execution_count": 8,
     "metadata": {},
     "output_type": "execute_result"
    }
   ],
   "source": [
    "cars=np.array(['chevrolet','buick','ply','ame','ford+'])\n",
    "cars[1:4]"
   ]
  },
  {
   "cell_type": "code",
   "execution_count": null,
   "id": "b4f77dd9",
   "metadata": {},
   "outputs": [],
   "source": []
  }
 ],
 "metadata": {
  "kernelspec": {
   "display_name": "Python 3 (ipykernel)",
   "language": "python",
   "name": "python3"
  },
  "language_info": {
   "codemirror_mode": {
    "name": "ipython",
    "version": 3
   },
   "file_extension": ".py",
   "mimetype": "text/x-python",
   "name": "python",
   "nbconvert_exporter": "python",
   "pygments_lexer": "ipython3",
   "version": "3.11.3"
  }
 },
 "nbformat": 4,
 "nbformat_minor": 5
}
