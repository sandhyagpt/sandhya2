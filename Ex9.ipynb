{
 "cells": [
  {
   "cell_type": "code",
   "execution_count": 1,
   "id": "aad1d9ad",
   "metadata": {},
   "outputs": [
    {
     "name": "stdout",
     "output_type": "stream",
     "text": [
      "Index of Minimum horsepower: 0\n",
      "Index of Maximum horsepower: 1\n"
     ]
    }
   ],
   "source": [
    "import numpy as np\n",
    "horsepower=[130,165,150,150,140]\n",
    "horsepower_arr=np.array(horsepower)\n",
    "print(\"Index of Minimum horsepower:\",np.argmin(horsepower_arr))\n",
    "print(\"Index of Maximum horsepower:\",np.argmax(horsepower_arr))\n"
   ]
  },
  {
   "cell_type": "code",
   "execution_count": null,
   "id": "ff46f4e9",
   "metadata": {},
   "outputs": [],
   "source": []
  }
 ],
 "metadata": {
  "kernelspec": {
   "display_name": "Python 3 (ipykernel)",
   "language": "python",
   "name": "python3"
  },
  "language_info": {
   "codemirror_mode": {
    "name": "ipython",
    "version": 3
   },
   "file_extension": ".py",
   "mimetype": "text/x-python",
   "name": "python",
   "nbconvert_exporter": "python",
   "pygments_lexer": "ipython3",
   "version": "3.11.3"
  }
 },
 "nbformat": 4,
 "nbformat_minor": 5
}
