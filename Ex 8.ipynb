{
 "cells": [
  {
   "cell_type": "code",
   "execution_count": 4,
   "id": "0f289357",
   "metadata": {},
   "outputs": [
    {
     "data": {
      "text/plain": [
       "array([['chevrolet', 'buick', 'ply', 'ame', 'fors'],\n",
       "       ['130', '165', '150', '150', '140'],\n",
       "       ['18', '15', '18', '16', '17']], dtype='<U11')"
      ]
     },
     "execution_count": 4,
     "metadata": {},
     "output_type": "execute_result"
    }
   ],
   "source": [
    "import numpy as np\n",
    "car_names=['chevrolet','buick','ply','ame','fors']\n",
    "horsepower=[130,165,150,150,140]\n",
    "acceleration=[18,15,18,16,17]\n",
    "car_hp_acc_arr=np.array([car_names,horsepower,acceleration])\n",
    "car_hp_acc_arr"
   ]
  },
  {
   "cell_type": "code",
   "execution_count": 9,
   "id": "095c4648",
   "metadata": {},
   "outputs": [
    {
     "name": "stdout",
     "output_type": "stream",
     "text": [
      "mean horsepower= 147.0\n"
     ]
    }
   ],
   "source": [
    "horsepower=[130,165,150,150,140]\n",
    "horsepower_arr=np.array(horsepower)\n",
    "print(\"mean horsepower=\",np.mean(horsepower_arr))"
   ]
  },
  {
   "cell_type": "code",
   "execution_count": 11,
   "id": "d8eb752e",
   "metadata": {},
   "outputs": [
    {
     "name": "stdout",
     "output_type": "stream",
     "text": [
      "Minimum horsepower= 130\n",
      "Maximum horsepower= 165\n"
     ]
    }
   ],
   "source": [
    "print(\"Minimum horsepower=\",min(horsepower_arr))\n",
    "print(\"Maximum horsepower=\",max(horsepower_arr))"
   ]
  },
  {
   "cell_type": "code",
   "execution_count": null,
   "id": "1fd97c9f",
   "metadata": {},
   "outputs": [],
   "source": []
  }
 ],
 "metadata": {
  "kernelspec": {
   "display_name": "Python 3 (ipykernel)",
   "language": "python",
   "name": "python3"
  },
  "language_info": {
   "codemirror_mode": {
    "name": "ipython",
    "version": 3
   },
   "file_extension": ".py",
   "mimetype": "text/x-python",
   "name": "python",
   "nbconvert_exporter": "python",
   "pygments_lexer": "ipython3",
   "version": "3.11.3"
  }
 },
 "nbformat": 4,
 "nbformat_minor": 5
}
