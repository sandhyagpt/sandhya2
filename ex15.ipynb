{
 "cells": [
  {
   "cell_type": "code",
   "execution_count": 3,
   "id": "43574b53",
   "metadata": {},
   "outputs": [
    {
     "name": "stdout",
     "output_type": "stream",
     "text": [
      "   empno    ename qualification subject\n",
      "0    101      Ram           B.e      cs\n",
      "1    102    Raman         B.com    mech\n",
      "2    103  Bhaskar          B.sc   civil\n",
      "3    104  Jnanesh           BCA     E&E\n"
     ]
    }
   ],
   "source": [
    "import pandas as pd\n",
    "data={\n",
    "    'empno':[101,102,103,104],\n",
    "    'ename':['Ram','Raman','Bhaskar','Jnanesh'],\n",
    "    'qualification':['B.e','B.com','B.sc','BCA'],\n",
    "    'subject':['cs','mech','civil','E&E']\n",
    "    }\n",
    "df=pd.DataFrame(data)\n",
    "print(df)\n"
   ]
  },
  {
   "cell_type": "code",
   "execution_count": 6,
   "id": "d81e8e38",
   "metadata": {},
   "outputs": [
    {
     "name": "stdout",
     "output_type": "stream",
     "text": [
      "   rollno     name      Address  Age  marks\n",
      "0       1  Ashwini        adyar   21    500\n",
      "1       2  Karthik  Belthangady   18    480\n",
      "2       3  chethan       sornad   19    550\n",
      "3       4   suresh   Moodabidri   20    490\n"
     ]
    }
   ],
   "source": [
    "data={\n",
    "    'rollno':[1,2,3,4],\n",
    "    'name':['Ashwini','Karthik','chethan','suresh'],\n",
    "    'Address':['adyar','Belthangady','sornad','Moodabidri'],\n",
    "    'Age':[21,18,19,20],\n",
    "    'marks':[500,480,550,490]\n",
    "    }\n",
    "df=pd.DataFrame(data)\n",
    "print(df)"
   ]
  },
  {
   "cell_type": "code",
   "execution_count": null,
   "id": "52f8fe61",
   "metadata": {},
   "outputs": [],
   "source": []
  }
 ],
 "metadata": {
  "kernelspec": {
   "display_name": "Python 3 (ipykernel)",
   "language": "python",
   "name": "python3"
  },
  "language_info": {
   "codemirror_mode": {
    "name": "ipython",
    "version": 3
   },
   "file_extension": ".py",
   "mimetype": "text/x-python",
   "name": "python",
   "nbconvert_exporter": "python",
   "pygments_lexer": "ipython3",
   "version": "3.11.3"
  }
 },
 "nbformat": 4,
 "nbformat_minor": 5
}
