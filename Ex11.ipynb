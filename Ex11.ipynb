{
 "cells": [
  {
   "cell_type": "code",
   "execution_count": 5,
   "id": "12e61864",
   "metadata": {},
   "outputs": [
    {
     "name": "stdout",
     "output_type": "stream",
     "text": [
      "original array: [130, 165, 150, 150, 140]\n",
      "sorted array: [130 140 150 150 165]\n",
      "original array after sorting: [130, 165, 150, 150, 140]\n",
      "[130 140 150 150 165]\n"
     ]
    }
   ],
   "source": [
    "import numpy as np\n",
    "horsepower_arr=[130,165,150,150,140]\n",
    "print('original array:',horsepower_arr)\n",
    "print('sorted array:',np.sort(horsepower_arr))\n",
    "print('original array after sorting:',horsepower_arr)\n",
    "sortedarray=np.sort(horsepower_arr)\n",
    "print(sortedarray)\n",
    "\n",
    "      "
   ]
  },
  {
   "cell_type": "code",
   "execution_count": 7,
   "id": "e4ea5168",
   "metadata": {},
   "outputs": [
    {
     "name": "stdout",
     "output_type": "stream",
     "text": [
      "[130 165 150 150 140]\n",
      "[130 140 150 150 165]\n"
     ]
    }
   ],
   "source": [
    "import numpy as np\n",
    "horsepower_arr=[130,165,150,150,140]\n",
    "horsepower_arr=np.array(horsepower)\n",
    "np.sort(horsepower_arr)\n",
    "print(horsepower_arr)\n",
    "horsepower_arr.sort()\n",
    "print(horsepower_arr)"
   ]
  },
  {
   "cell_type": "code",
   "execution_count": 8,
   "id": "342072e1",
   "metadata": {},
   "outputs": [
    {
     "name": "stdout",
     "output_type": "stream",
     "text": [
      "original array: [130 165 150 150 140]\n",
      "original array after sorting: [130 140 150 150 165]\n"
     ]
    }
   ],
   "source": [
    "horsepower_arr=[130,165,150,150,140]\n",
    "horsepower_arr=np.array(horsepower)\n",
    "print('original array:',horsepower_arr)\n",
    "horsepower_arr.sort()\n",
    "print('original array after sorting:',horsepower_arr)"
   ]
  },
  {
   "cell_type": "code",
   "execution_count": null,
   "id": "9b3e93a0",
   "metadata": {},
   "outputs": [],
   "source": []
  }
 ],
 "metadata": {
  "kernelspec": {
   "display_name": "Python 3 (ipykernel)",
   "language": "python",
   "name": "python3"
  },
  "language_info": {
   "codemirror_mode": {
    "name": "ipython",
    "version": 3
   },
   "file_extension": ".py",
   "mimetype": "text/x-python",
   "name": "python",
   "nbconvert_exporter": "python",
   "pygments_lexer": "ipython3",
   "version": "3.11.3"
  }
 },
 "nbformat": 4,
 "nbformat_minor": 5
}
