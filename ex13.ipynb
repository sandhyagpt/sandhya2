{
 "cells": [
  {
   "cell_type": "code",
   "execution_count": 6,
   "id": "f57eb71d",
   "metadata": {},
   "outputs": [
    {
     "name": "stdout",
     "output_type": "stream",
     "text": [
      "0    10\n",
      "1    20\n",
      "2    30\n",
      "5    60\n",
      "6    70\n",
      "7    80\n",
      "dtype: int64\n"
     ]
    }
   ],
   "source": [
    "import pandas as pd\n",
    "import numpy as np\n",
    "series_A=pd.Series([10,20,30,40,50])\n",
    "series_B=pd.Series([40,50,60,70,80])\n",
    "union=pd.Series(np.union1d(series_A,series_B))\n",
    "intersect=pd.Series(np.intersect1d(series_A,series_B))\n",
    "notcommonseries=union[~union.isin(intersect)]\n",
    "print(notcommonseries)"
   ]
  },
  {
   "cell_type": "code",
   "execution_count": null,
   "id": "1a8989d4",
   "metadata": {},
   "outputs": [],
   "source": []
  }
 ],
 "metadata": {
  "kernelspec": {
   "display_name": "Python 3 (ipykernel)",
   "language": "python",
   "name": "python3"
  },
  "language_info": {
   "codemirror_mode": {
    "name": "ipython",
    "version": 3
   },
   "file_extension": ".py",
   "mimetype": "text/x-python",
   "name": "python",
   "nbconvert_exporter": "python",
   "pygments_lexer": "ipython3",
   "version": "3.11.3"
  }
 },
 "nbformat": 4,
 "nbformat_minor": 5
}
